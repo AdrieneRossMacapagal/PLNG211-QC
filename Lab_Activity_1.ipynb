{
  "cells": [
    {
      "cell_type": "markdown",
      "metadata": {
        "id": "view-in-github",
        "colab_type": "text"
      },
      "source": [
        "<a href=\"https://colab.research.google.com/github/AdrieneRossMacapagal/PLNG211-QC/blob/main/Lab_Activity_1.ipynb\" target=\"_parent\"><img src=\"https://colab.research.google.com/assets/colab-badge.svg\" alt=\"Open In Colab\"/></a>"
      ]
    },
    {
      "cell_type": "code",
      "execution_count": null,
      "metadata": {
        "colab": {
          "base_uri": "https://localhost:8080/"
        },
        "id": "JoZyQmJawdpk",
        "outputId": "7ac394d4-fdc2-477c-d9a8-341d83daa622"
      },
      "outputs": [
        {
          "name": "stdout",
          "output_type": "stream",
          "text": [
            "Arrays:\n",
            " [1, 2, 3, 4, 5, 6, 7, 8, 9, 10] \n",
            "\n",
            "Sums:\n",
            " 55\n"
          ]
        }
      ],
      "source": [
        "#1----------------------------------------\n",
        "orgArr = [1, 2, 3 , 4 ,5 ,6 , 7, 8, 9 ,10]\n",
        "sums = sum(orgArr)\n",
        "print('Arrays:\\n',orgArr,'\\n')\n",
        "print('Sums:\\n', sums)"
      ]
    },
    {
      "cell_type": "code",
      "execution_count": 43,
      "metadata": {
        "colab": {
          "base_uri": "https://localhost:8080/"
        },
        "id": "3tQhKZAJ1Lg2",
        "outputId": "e4fa2ec6-5c83-4719-a19d-eb6e574acb9f"
      },
      "outputs": [
        {
          "output_type": "stream",
          "name": "stdout",
          "text": [
            "Original array:\n",
            " [1, 2, 3, 4, 5, 6, 7, 8, 9, 10] \n",
            "\n",
            "Append 11 at the end:\n",
            " [1, 2, 3, 4, 5, 6, 7, 8, 9, 10, 11]\n"
          ]
        }
      ],
      "source": [
        "#2----------------------------------------\n",
        "upArr = orgA = [1, 2, 3 , 4 ,5 ,6 , 7, 8, 9 ,10]\n",
        "print(\"Original array:\\n\",upArr,'\\n')\n",
        "upArr.append(11)\n",
        "print('Append 11 at the end:\\n',upArr)"
      ]
    },
    {
      "cell_type": "code",
      "execution_count": 50,
      "metadata": {
        "id": "V6Z2H5KH3mck",
        "colab": {
          "base_uri": "https://localhost:8080/"
        },
        "outputId": "fffa7947-2074-4aab-9a05-6850f7475f9c"
      },
      "outputs": [
        {
          "output_type": "stream",
          "name": "stdout",
          "text": [
            "Original array:\n",
            " [1, 2, 3, 4, 5, 6, 7, 8, 9, 10] \n",
            "\n",
            "Insert item 11:\n",
            " [1, 11, 2, 3, 4, 5, 6, 7, 8, 9, 10]\n"
          ]
        }
      ],
      "source": [
        "#3----------------------------------------\n",
        "orgArr = [1, 2, 3 , 4 ,5 ,6 , 7, 8, 9 ,10]\n",
        "print(\"Original array:\\n\",orgArr,'\\n')\n",
        "upArr = orgArr\n",
        "upArr.insert(1, 11)\n",
        "print('Insert item 11:\\n',upArr)"
      ]
    },
    {
      "cell_type": "code",
      "source": [
        "#4----------------------------------------\n",
        "orgArr = [5, 4, 3, 2, 1]\n",
        "print(\"Original array:\\n\",orgArr,'\\n')\n",
        "res = orgArr[::-1]\n",
        "print('Reverse order:\\n',res)"
      ],
      "metadata": {
        "colab": {
          "base_uri": "https://localhost:8080/"
        },
        "id": "uijOzVcA6y3D",
        "outputId": "0ad948f2-e255-4110-fa0d-6f2b64465d6a"
      },
      "execution_count": 51,
      "outputs": [
        {
          "output_type": "stream",
          "name": "stdout",
          "text": [
            "Original array:\n",
            " [5, 4, 3, 2, 1] \n",
            "\n",
            "Reverse order:\n",
            " [1, 2, 3, 4, 5]\n"
          ]
        }
      ]
    },
    {
      "cell_type": "code",
      "source": [
        "#5----------------------------------------\n",
        "print(\"Original array:\\n\",orgArr,'\\n')\n",
        "lenArr = len(orgArr)\n",
        "print('Length of array is:\\n',lenArr)"
      ],
      "metadata": {
        "colab": {
          "base_uri": "https://localhost:8080/"
        },
        "id": "JAynzKgx8ZPp",
        "outputId": "67051220-da7f-4f23-e2c9-35de9a21899e"
      },
      "execution_count": 53,
      "outputs": [
        {
          "output_type": "stream",
          "name": "stdout",
          "text": [
            "Original array:\n",
            " [5, 4, 3, 2, 1] \n",
            "\n",
            "Length of array is:\n",
            " 5\n"
          ]
        }
      ]
    },
    {
      "cell_type": "code",
      "source": [
        "#In summary, I think this whole laboratory was a complete review of general array functions, a basic gist of everything we learned in python array-wise. \n",
        "#The first problem being how to sum up all array elements, second problem is how to append, or how to insert an element/item at the end of an array, \n",
        "#third is how to insert an element in an array wherever, next is displaying the array in reverse order, and lastly, displaying the length of an array."
      ],
      "metadata": {
        "id": "PUZvEcMgPXPL"
      },
      "execution_count": null,
      "outputs": []
    }
  ],
  "metadata": {
    "colab": {
      "provenance": [],
      "authorship_tag": "ABX9TyO+rzMOwNCwxzLzz8zjuwOV",
      "include_colab_link": true
    },
    "kernelspec": {
      "display_name": "Python 3",
      "name": "python3"
    },
    "language_info": {
      "name": "python"
    }
  },
  "nbformat": 4,
  "nbformat_minor": 0
}