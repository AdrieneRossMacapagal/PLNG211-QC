{
  "nbformat": 4,
  "nbformat_minor": 0,
  "metadata": {
    "colab": {
      "provenance": [],
      "authorship_tag": "ABX9TyP6Xi68EBOdpSC35R1SoKiJ",
      "include_colab_link": true
    },
    "kernelspec": {
      "name": "python3",
      "display_name": "Python 3"
    },
    "language_info": {
      "name": "python"
    }
  },
  "cells": [
    {
      "cell_type": "markdown",
      "metadata": {
        "id": "view-in-github",
        "colab_type": "text"
      },
      "source": [
        "<a href=\"https://colab.research.google.com/github/AdrieneRossMacapagal/PLNG211-QC/blob/main/Break_Statement.ipynb\" target=\"_parent\"><img src=\"https://colab.research.google.com/assets/colab-badge.svg\" alt=\"Open In Colab\"/></a>"
      ]
    },
    {
      "cell_type": "code",
      "execution_count": 2,
      "metadata": {
        "colab": {
          "base_uri": "https://localhost:8080/"
        },
        "id": "CpOA92Sn2VnW",
        "outputId": "33ec1b42-c36a-4732-a182-324c9bd81182"
      },
      "outputs": [
        {
          "output_type": "stream",
          "name": "stdout",
          "text": [
            "1\n",
            "2\n",
            "3\n"
          ]
        }
      ],
      "source": [
        "#break statement\n",
        "i=1\n",
        "while i < 6:\n",
        "  print(i)\n",
        "  if i == 3:\n",
        "    break\n",
        "  i+=1        #increment, i = i + 1;"
      ]
    },
    {
      "cell_type": "code",
      "source": [
        "#break statement appilication 1\n",
        "#Display only 3 after using break statement\n",
        "i=1\n",
        "while i < 6:\n",
        "  if i == 3:\n",
        "    print(i)\n",
        "    break\n",
        "  i+=1"
      ],
      "metadata": {
        "colab": {
          "base_uri": "https://localhost:8080/"
        },
        "id": "n0Vl1Myb41yd",
        "outputId": "7b43af68-cde4-441d-aa77-64d14795598f"
      },
      "execution_count": 21,
      "outputs": [
        {
          "output_type": "stream",
          "name": "stdout",
          "text": [
            "3\n"
          ]
        }
      ]
    },
    {
      "cell_type": "code",
      "source": [
        "#continue statement\n",
        "i=0\n",
        "while i < 6:\n",
        "  i+=1\n",
        "  if i == 3: # i becomes 3, it continues instead of printing right away.\n",
        "    continue\n",
        "  print(i)"
      ],
      "metadata": {
        "id": "nTuPvDcz5P2V"
      },
      "execution_count": null,
      "outputs": []
    },
    {
      "cell_type": "code",
      "source": [
        "#else statement\n",
        "i = 1\n",
        "while i < 6:\n",
        "  print(i)\n",
        "  i+=1\n",
        "else:\n",
        "  print(\"i is no longer less than 6\")"
      ],
      "metadata": {
        "id": "sKRljYGc6yol"
      },
      "execution_count": null,
      "outputs": []
    },
    {
      "cell_type": "code",
      "source": [
        "#Create a python program that displays hello world in incremental\n",
        "i=0\n",
        "while i < 11:\n",
        "  print(\"Hello \", i)\n",
        "  if i == 10:\n",
        "    break\n",
        "  i+=1"
      ],
      "metadata": {
        "colab": {
          "base_uri": "https://localhost:8080/"
        },
        "id": "p1ZD65PY7k4d",
        "outputId": "84035c2c-66a1-46a6-8c04-3ffe9d738f8e"
      },
      "execution_count": 25,
      "outputs": [
        {
          "output_type": "stream",
          "name": "stdout",
          "text": [
            "Hello  0\n",
            "Hello  1\n",
            "Hello  2\n",
            "Hello  3\n",
            "Hello  4\n",
            "Hello  5\n",
            "Hello  6\n",
            "Hello  7\n",
            "Hello  8\n",
            "Hello  9\n",
            "Hello  10\n"
          ]
        }
      ]
    }
  ]
}