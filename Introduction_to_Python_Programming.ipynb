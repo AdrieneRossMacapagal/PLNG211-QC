{
  "nbformat": 4,
  "nbformat_minor": 0,
  "metadata": {
    "colab": {
      "provenance": [],
      "collapsed_sections": [],
      "authorship_tag": "ABX9TyNjA27lfzZGn+p1a1KduUTk",
      "include_colab_link": true
    },
    "kernelspec": {
      "name": "python3",
      "display_name": "Python 3"
    },
    "language_info": {
      "name": "python"
    }
  },
  "cells": [
    {
      "cell_type": "markdown",
      "metadata": {
        "id": "view-in-github",
        "colab_type": "text"
      },
      "source": [
        "<a href=\"https://colab.research.google.com/github/AdrieneRossMacapagal/PLNG211-QC/blob/main/Introduction_to_Python_Programming.ipynb\" target=\"_parent\"><img src=\"https://colab.research.google.com/assets/colab-badge.svg\" alt=\"Open In Colab\"/></a>"
      ]
    },
    {
      "cell_type": "code",
      "source": [
        "if 5 > 2: \n",
        "  print(\"Five is greater than two!\")\n",
        "\n",
        "#this is a comment\n",
        "print(\"Hello Caloocan\")"
      ],
      "metadata": {
        "id": "KAOmYnXLo5dA"
      },
      "execution_count": null,
      "outputs": []
    },
    {
      "cell_type": "markdown",
      "source": [
        "Python Indentation"
      ],
      "metadata": {
        "id": "RQFtcyArqXRn"
      }
    },
    {
      "cell_type": "code",
      "source": [
        "#This is an example of python indentation\n",
        "\n",
        "if 5 > 2: #<--------always a colon.\n",
        "  print(\"Five is greater than two!\")"
      ],
      "metadata": {
        "id": "Zhr5BDfpqXlm"
      },
      "execution_count": null,
      "outputs": []
    },
    {
      "cell_type": "markdown",
      "source": [
        "Python Variable"
      ],
      "metadata": {
        "id": "Aq6xIFD2szbY"
      }
    },
    {
      "cell_type": "code",
      "source": [
        "x = 1\n",
        "a,b=0, -1\n",
        "print(a)\n",
        "a = 9\n",
        "c = \"Sally\"\n",
        "c = \"Danny\"\n",
        "print(a)\n",
        "print(c)\n",
        "print(c)\n",
        "c = \"Maria\""
      ],
      "metadata": {
        "id": "ygsH8r46s3w8"
      },
      "execution_count": null,
      "outputs": []
    },
    {
      "cell_type": "code",
      "source": [
        "print(c)"
      ],
      "metadata": {
        "id": "JmODYZRvt0-9"
      },
      "execution_count": null,
      "outputs": []
    },
    {
      "cell_type": "markdown",
      "source": [
        "Casting"
      ],
      "metadata": {
        "id": "1qgSrZvOusN2"
      }
    },
    {
      "cell_type": "code",
      "source": [
        "d = int(4)\n",
        "print(d)\n",
        "e = float(4)\n",
        "print(e)"
      ],
      "metadata": {
        "id": "BsyrtiDRuwJN"
      },
      "execution_count": null,
      "outputs": []
    },
    {
      "cell_type": "markdown",
      "source": [
        "Tyoe () Function"
      ],
      "metadata": {
        "id": "oCl8KqNhvn11"
      }
    },
    {
      "cell_type": "code",
      "source": [
        "print(type(d))\n",
        "print(type(e))"
      ],
      "metadata": {
        "colab": {
          "base_uri": "https://localhost:8080/"
        },
        "id": "JDpVeDUavqht",
        "outputId": "5f29a789-a811-4947-8429-8ee0639916d8"
      },
      "execution_count": 23,
      "outputs": [
        {
          "output_type": "stream",
          "name": "stdout",
          "text": [
            "<class 'int'>\n",
            "<class 'float'>\n"
          ]
        }
      ]
    },
    {
      "cell_type": "markdown",
      "source": [
        "Single Quote or Doubel Qoute"
      ],
      "metadata": {
        "id": "fAr72fMLxQu8"
      }
    },
    {
      "cell_type": "code",
      "source": [
        "f = \"Maria\"\n",
        "print(f)\n",
        "g = 'Ana'\n",
        "print(g)"
      ],
      "metadata": {
        "id": "9Ed6kodAxT_i"
      },
      "execution_count": null,
      "outputs": []
    },
    {
      "cell_type": "markdown",
      "source": [
        "Multiple Variables"
      ],
      "metadata": {
        "id": "r5P66S0Txcsk"
      }
    },
    {
      "cell_type": "code",
      "source": [
        "x,y,z=4,5,6\n",
        "print(x)\n",
        "print(y)\n",
        "print(z)"
      ],
      "metadata": {
        "id": "TXxK4vKdxi1F"
      },
      "execution_count": null,
      "outputs": []
    },
    {
      "cell_type": "markdown",
      "source": [
        "Single Value to Multiple Variables"
      ],
      "metadata": {
        "id": "bikzXt41xu_E"
      }
    },
    {
      "cell_type": "code",
      "source": [
        "x = y = z = \"Lilo\"\n",
        "print(x)\n",
        "print(y)\n",
        "print(z)"
      ],
      "metadata": {
        "id": "QWsIIgUmxzXc"
      },
      "execution_count": null,
      "outputs": []
    },
    {
      "cell_type": "markdown",
      "source": [
        "Output Variable using Print and +"
      ],
      "metadata": {
        "id": "o8n4rTILykic"
      }
    },
    {
      "cell_type": "code",
      "source": [
        "s = \"Python is\"\n",
        "t = \"enjoying\"\n",
        "print(\"Python is\"+\" \"+t) #<----- lmao\n",
        "print(s+' '+t)"
      ],
      "metadata": {
        "id": "_stwjA8Cyngx"
      },
      "execution_count": null,
      "outputs": []
    },
    {
      "cell_type": "markdown",
      "source": [
        "Arithmetic"
      ],
      "metadata": {
        "id": "iOnf7rfbz-3z"
      }
    },
    {
      "cell_type": "code",
      "source": [
        "x = 1\n",
        "y = 2\n",
        "sum = x+y\n",
        "sum #<------ no need for print for arithmetic,\n",
        "sum\n",
        "sum\n",
        "x #<-------- can retreive this way.\n",
        "y\n",
        "sum\n",
        "print(x)\n",
        "print(y)\n",
        "print(sum) #<------added everything\n",
        "\n",
        "#modulo division\n",
        "l = 4%2\n",
        "l #<-------can also be \"print(l)\"\"\n",
        "print(\"4%2\",l)\n",
        "#floor division\n",
        "k = 4 / 2\n",
        "print(\"4/2=\",k)"
      ],
      "metadata": {
        "id": "l6yVmJx60AhL"
      },
      "execution_count": null,
      "outputs": []
    },
    {
      "cell_type": "markdown",
      "source": [
        "Assignment Operator"
      ],
      "metadata": {
        "id": "5bHtH9Hq0xH0"
      }
    },
    {
      "cell_type": "code",
      "source": [
        "x = 1\n",
        "x+=1 #spaces are not tolerated.\n",
        "print(x)"
      ],
      "metadata": {
        "colab": {
          "base_uri": "https://localhost:8080/"
        },
        "id": "rtqDigf12YEz",
        "outputId": "eef1c5d7-9745-4a9e-fd14-8c2cd38a458f"
      },
      "execution_count": 48,
      "outputs": [
        {
          "output_type": "stream",
          "name": "stdout",
          "text": [
            "2\n"
          ]
        }
      ]
    },
    {
      "cell_type": "markdown",
      "source": [
        "Logical Operator"
      ],
      "metadata": {
        "id": "lW1N8j7X3iRR"
      }
    },
    {
      "cell_type": "code",
      "source": [
        "q = 1\n",
        "r = 4\n",
        "q>r and r==r #<-----Double Equal sign"
      ],
      "metadata": {
        "colab": {
          "base_uri": "https://localhost:8080/"
        },
        "id": "nTyN_oUh3j9h",
        "outputId": "f840ad6a-93f6-4b14-e613-252ad62de459"
      },
      "execution_count": 49,
      "outputs": [
        {
          "output_type": "execute_result",
          "data": {
            "text/plain": [
              "False"
            ]
          },
          "metadata": {},
          "execution_count": 49
        }
      ]
    }
  ]
}