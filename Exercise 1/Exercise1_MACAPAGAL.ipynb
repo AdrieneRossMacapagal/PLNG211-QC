{
  "nbformat": 4,
  "nbformat_minor": 0,
  "metadata": {
    "colab": {
      "provenance": []
    },
    "kernelspec": {
      "name": "python3",
      "display_name": "Python 3"
    },
    "language_info": {
      "name": "python"
    }
  },
  "cells": [
    {
      "cell_type": "code",
      "source": [
        "#Exercise 1\n",
        "\n",
        "arr = [26,49,98,87,62,75]\n",
        "print(\"Test Scores: \", arr)\n",
        "print(\"Scores to be excluded: \")\n",
        "inTotal = 0\n",
        "for i in arr:\n",
        "  if i % 2 == 0:\n",
        "    inTotal+=i\n",
        "  else:\n",
        "    print(i)\n",
        "print(\"Test Scores in total (even): \", inTotal)"
      ],
      "metadata": {
        "colab": {
          "base_uri": "https://localhost:8080/"
        },
        "id": "l1YYbqT0U6CQ",
        "outputId": "6f09e279-7d2c-45fc-e020-997d7871bb01"
      },
      "execution_count": 22,
      "outputs": [
        {
          "output_type": "stream",
          "name": "stdout",
          "text": [
            "Test Scores:  [26, 49, 98, 87, 62, 75]\n",
            "Scores to be excluded: \n",
            "49\n",
            "87\n",
            "75\n",
            "Test Scores in total (even):  186\n"
          ]
        }
      ]
    }
  ]
}