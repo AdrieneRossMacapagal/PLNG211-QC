{
  "nbformat": 4,
  "nbformat_minor": 0,
  "metadata": {
    "colab": {
      "provenance": [],
      "authorship_tag": "ABX9TyNBCBk8UqFIpwmfatr+HyuG",
      "include_colab_link": true
    },
    "kernelspec": {
      "name": "python3",
      "display_name": "Python 3"
    },
    "language_info": {
      "name": "python"
    }
  },
  "cells": [
    {
      "cell_type": "markdown",
      "metadata": {
        "id": "view-in-github",
        "colab_type": "text"
      },
      "source": [
        "<a href=\"https://colab.research.google.com/github/AdrieneRossMacapagal/PLNG211-QC/blob/main/functions.ipynb\" target=\"_parent\"><img src=\"https://colab.research.google.com/assets/colab-badge.svg\" alt=\"Open In Colab\"/></a>"
      ]
    },
    {
      "cell_type": "code",
      "execution_count": null,
      "metadata": {
        "colab": {
          "base_uri": "https://localhost:8080/"
        },
        "id": "XkqW1z8li4tq",
        "outputId": "8e310526-fc2a-45f1-f5bf-01a42a35bc6f"
      },
      "outputs": [
        {
          "output_type": "stream",
          "name": "stdout",
          "text": [
            "2\n",
            "7\n",
            "5\n",
            "\n",
            "2\n",
            "7\n",
            "5\n",
            "Sum =  14\n",
            "Average =  4.666666666666667\n",
            "Sum of squares =  78.0\n"
          ]
        }
      ],
      "source": [
        "import math\n",
        "\n",
        "print(min(2,3,4))\n",
        "print(max(2,-3,4,7,-5))\n",
        "print(max(2,-3,min(4,7),5))\n",
        "print(\"\")\n",
        "def sum(x,y,z):\n",
        "    return x+y+z\n",
        "def average(x,y,z):\n",
        "    return (x+y+z)/3\n",
        "def square(x,y,z):\n",
        "    return math.pow(x,2) + math.pow(y,2) + math.pow(z,2)\n",
        "\n",
        "x = int(input())\n",
        "y = int(input())\n",
        "z = int(input())\n",
        "\n",
        "print(\"Sum = \",sum(x,y,z))\n",
        "print(\"Average = \",average(x,y,z))\n",
        "print(\"Sum of squares = \",square(x,y,z))"
      ]
    }
  ]
}